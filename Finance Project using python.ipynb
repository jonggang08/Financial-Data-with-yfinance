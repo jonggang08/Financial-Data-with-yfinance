{
 "cells": [
  {
   "cell_type": "markdown",
   "metadata": {},
   "source": [
    "## Computing portfolio simple returns, get daily returns and volatility"
   ]
  },
  {
   "cell_type": "code",
   "execution_count": 19,
   "metadata": {},
   "outputs": [],
   "source": [
    "from datetime import datetime\n",
    "import numpy as np\n",
    "import pandas as pd\n",
    "import pandas_datareader as web\n",
    "import matplotlib.pyplot as plt\n",
    "import yfinance as yf\n",
    "plt.style.use('seaborn')"
   ]
  },
  {
   "cell_type": "code",
   "execution_count": 2,
   "metadata": {},
   "outputs": [],
   "source": [
    "## getting stock symbols for portfolio\n",
    "stocksymbols = [\"FB\", \"AMZN\", \"AAPL\", \"GOOG\", \"NFLX\"]"
   ]
  },
  {
   "cell_type": "code",
   "execution_count": 4,
   "metadata": {},
   "outputs": [
    {
     "name": "stdout",
     "output_type": "stream",
     "text": [
      "2021-07-23\n"
     ]
    }
   ],
   "source": [
    "stock_start = '2013-01-01' # chose 2013 as FB had its IPO on 2012\n",
    "stock_end = datetime.today().strftime('%Y-%m-%d')\n",
    "print(stock_end)\n"
   ]
  },
  {
   "cell_type": "code",
   "execution_count": 7,
   "metadata": {},
   "outputs": [
    {
     "name": "stdout",
     "output_type": "stream",
     "text": [
      "I have 5assets in your portfolio\n"
     ]
    }
   ],
   "source": [
    "numberAssets = len(stocksymbols)\n",
    "print('I have ' + str(numberAssets)+'assets in your portfolio')"
   ]
  },
  {
   "cell_type": "code",
   "execution_count": 9,
   "metadata": {},
   "outputs": [],
   "source": [
    "## Getting the stock prices in the portfolio\n",
    "def getMyPortfolio(stocks = stocksymbols, start=stock_start, end=stock_end, col='Adj Close'):\n",
    "        data = yf.download(stocksymbols,start,end)[col]\n",
    "        return data\n"
   ]
  },
  {
   "cell_type": "code",
   "execution_count": 11,
   "metadata": {},
   "outputs": [
    {
     "name": "stdout",
     "output_type": "stream",
     "text": [
      "[*********************100%***********************]  5 of 5 completed\n"
     ]
    },
    {
     "data": {
      "text/html": [
       "<div>\n",
       "<style scoped>\n",
       "    .dataframe tbody tr th:only-of-type {\n",
       "        vertical-align: middle;\n",
       "    }\n",
       "\n",
       "    .dataframe tbody tr th {\n",
       "        vertical-align: top;\n",
       "    }\n",
       "\n",
       "    .dataframe thead th {\n",
       "        text-align: right;\n",
       "    }\n",
       "</style>\n",
       "<table border=\"1\" class=\"dataframe\">\n",
       "  <thead>\n",
       "    <tr style=\"text-align: right;\">\n",
       "      <th></th>\n",
       "      <th>AAPL</th>\n",
       "      <th>AMZN</th>\n",
       "      <th>FB</th>\n",
       "      <th>GOOG</th>\n",
       "      <th>NFLX</th>\n",
       "    </tr>\n",
       "    <tr>\n",
       "      <th>Date</th>\n",
       "      <th></th>\n",
       "      <th></th>\n",
       "      <th></th>\n",
       "      <th></th>\n",
       "      <th></th>\n",
       "    </tr>\n",
       "  </thead>\n",
       "  <tbody>\n",
       "    <tr>\n",
       "      <th>2013-01-02</th>\n",
       "      <td>17.010899</td>\n",
       "      <td>257.309998</td>\n",
       "      <td>28.000000</td>\n",
       "      <td>360.274597</td>\n",
       "      <td>13.144286</td>\n",
       "    </tr>\n",
       "    <tr>\n",
       "      <th>2013-01-03</th>\n",
       "      <td>16.796177</td>\n",
       "      <td>258.480011</td>\n",
       "      <td>27.770000</td>\n",
       "      <td>360.483826</td>\n",
       "      <td>13.798571</td>\n",
       "    </tr>\n",
       "    <tr>\n",
       "      <th>2013-01-04</th>\n",
       "      <td>16.328323</td>\n",
       "      <td>259.149994</td>\n",
       "      <td>28.760000</td>\n",
       "      <td>367.607117</td>\n",
       "      <td>13.711429</td>\n",
       "    </tr>\n",
       "    <tr>\n",
       "      <th>2013-01-07</th>\n",
       "      <td>16.232281</td>\n",
       "      <td>268.459991</td>\n",
       "      <td>29.420000</td>\n",
       "      <td>366.003143</td>\n",
       "      <td>14.171429</td>\n",
       "    </tr>\n",
       "    <tr>\n",
       "      <th>2013-01-08</th>\n",
       "      <td>16.275965</td>\n",
       "      <td>266.380005</td>\n",
       "      <td>29.059999</td>\n",
       "      <td>365.280823</td>\n",
       "      <td>13.880000</td>\n",
       "    </tr>\n",
       "    <tr>\n",
       "      <th>...</th>\n",
       "      <td>...</td>\n",
       "      <td>...</td>\n",
       "      <td>...</td>\n",
       "      <td>...</td>\n",
       "      <td>...</td>\n",
       "    </tr>\n",
       "    <tr>\n",
       "      <th>2021-07-16</th>\n",
       "      <td>146.389999</td>\n",
       "      <td>3573.629883</td>\n",
       "      <td>341.160004</td>\n",
       "      <td>2636.909912</td>\n",
       "      <td>530.309998</td>\n",
       "    </tr>\n",
       "    <tr>\n",
       "      <th>2021-07-19</th>\n",
       "      <td>142.449997</td>\n",
       "      <td>3549.590088</td>\n",
       "      <td>336.950012</td>\n",
       "      <td>2585.080078</td>\n",
       "      <td>532.280029</td>\n",
       "    </tr>\n",
       "    <tr>\n",
       "      <th>2021-07-20</th>\n",
       "      <td>146.149994</td>\n",
       "      <td>3573.189941</td>\n",
       "      <td>341.660004</td>\n",
       "      <td>2622.030029</td>\n",
       "      <td>531.049988</td>\n",
       "    </tr>\n",
       "    <tr>\n",
       "      <th>2021-07-21</th>\n",
       "      <td>145.399994</td>\n",
       "      <td>3585.199951</td>\n",
       "      <td>346.230011</td>\n",
       "      <td>2652.010010</td>\n",
       "      <td>513.630005</td>\n",
       "    </tr>\n",
       "    <tr>\n",
       "      <th>2021-07-22</th>\n",
       "      <td>146.800003</td>\n",
       "      <td>3638.030029</td>\n",
       "      <td>351.190002</td>\n",
       "      <td>2666.570068</td>\n",
       "      <td>511.769989</td>\n",
       "    </tr>\n",
       "  </tbody>\n",
       "</table>\n",
       "<p>2154 rows × 5 columns</p>\n",
       "</div>"
      ],
      "text/plain": [
       "                  AAPL         AMZN          FB         GOOG        NFLX\n",
       "Date                                                                    \n",
       "2013-01-02   17.010899   257.309998   28.000000   360.274597   13.144286\n",
       "2013-01-03   16.796177   258.480011   27.770000   360.483826   13.798571\n",
       "2013-01-04   16.328323   259.149994   28.760000   367.607117   13.711429\n",
       "2013-01-07   16.232281   268.459991   29.420000   366.003143   14.171429\n",
       "2013-01-08   16.275965   266.380005   29.059999   365.280823   13.880000\n",
       "...                ...          ...         ...          ...         ...\n",
       "2021-07-16  146.389999  3573.629883  341.160004  2636.909912  530.309998\n",
       "2021-07-19  142.449997  3549.590088  336.950012  2585.080078  532.280029\n",
       "2021-07-20  146.149994  3573.189941  341.660004  2622.030029  531.049988\n",
       "2021-07-21  145.399994  3585.199951  346.230011  2652.010010  513.630005\n",
       "2021-07-22  146.800003  3638.030029  351.190002  2666.570068  511.769989\n",
       "\n",
       "[2154 rows x 5 columns]"
      ]
     },
     "execution_count": 11,
     "metadata": {},
     "output_type": "execute_result"
    }
   ],
   "source": [
    "my_stocks = getMyPortfolio(stocksymbols)\n",
    "my_stocks = my_stocks.iloc[1:,]\n",
    "my_stocks"
   ]
  },
  {
   "cell_type": "code",
   "execution_count": 20,
   "metadata": {},
   "outputs": [],
   "source": [
    "## visualizing the portfolio\n",
    "def showGraph(stocks = stocksymbols, start=stock_start, end= stock_end, col=\"Adj Close\"):\n",
    "    title = 'Portfolio' +col+ ' Price History'\n",
    "    my_stocks = getMyPortfolio(stocks=stocks, start=start, end=end, col=col)\n",
    "    plt.figure(figsize=(12,5))\n",
    "    for item in my_stocks.columns.values:\n",
    "        plt.plot(my_stocks[item], label = item)\n",
    "    plt.title(title)\n",
    "    plt.xlabel('Date')\n",
    "    plt.ylabel( col+ ' Price USD($)')\n",
    "    plt.legend(my_stocks.columns.values, loc='upper left')\n",
    "    plt.show"
   ]
  },
  {
   "cell_type": "code",
   "execution_count": 21,
   "metadata": {},
   "outputs": [
    {
     "name": "stdout",
     "output_type": "stream",
     "text": [
      "[*********************100%***********************]  5 of 5 completed\n"
     ]
    },
    {
     "data": {
      "image/png": "[encoded data removed]",
      "text/plain": [
       "<Figure size 864x360 with 1 Axes>"
      ]
     },
     "metadata": {},
     "output_type": "display_data"
    }
   ],
   "source": [
    "showGraph(stocksymbols)"
   ]
  },
  {
   "cell_type": "code",
   "execution_count": 24,
   "metadata": {},
   "outputs": [
    {
     "data": {
      "text/html": [
       "<div>\n",
       "<style scoped>\n",
       "    .dataframe tbody tr th:only-of-type {\n",
       "        vertical-align: middle;\n",
       "    }\n",
       "\n",
       "    .dataframe tbody tr th {\n",
       "        vertical-align: top;\n",
       "    }\n",
       "\n",
       "    .dataframe thead th {\n",
       "        text-align: right;\n",
       "    }\n",
       "</style>\n",
       "<table border=\"1\" class=\"dataframe\">\n",
       "  <thead>\n",
       "    <tr style=\"text-align: right;\">\n",
       "      <th></th>\n",
       "      <th>AAPL</th>\n",
       "      <th>AMZN</th>\n",
       "      <th>FB</th>\n",
       "      <th>GOOG</th>\n",
       "      <th>NFLX</th>\n",
       "    </tr>\n",
       "    <tr>\n",
       "      <th>Date</th>\n",
       "      <th></th>\n",
       "      <th></th>\n",
       "      <th></th>\n",
       "      <th></th>\n",
       "      <th></th>\n",
       "    </tr>\n",
       "  </thead>\n",
       "  <tbody>\n",
       "    <tr>\n",
       "      <th>2013-01-02</th>\n",
       "      <td>NaN</td>\n",
       "      <td>NaN</td>\n",
       "      <td>NaN</td>\n",
       "      <td>NaN</td>\n",
       "      <td>NaN</td>\n",
       "    </tr>\n",
       "    <tr>\n",
       "      <th>2013-01-03</th>\n",
       "      <td>-0.012623</td>\n",
       "      <td>0.004547</td>\n",
       "      <td>-0.008214</td>\n",
       "      <td>0.000581</td>\n",
       "      <td>0.049777</td>\n",
       "    </tr>\n",
       "    <tr>\n",
       "      <th>2013-01-04</th>\n",
       "      <td>-0.027855</td>\n",
       "      <td>0.002592</td>\n",
       "      <td>0.035650</td>\n",
       "      <td>0.019760</td>\n",
       "      <td>-0.006315</td>\n",
       "    </tr>\n",
       "    <tr>\n",
       "      <th>2013-01-07</th>\n",
       "      <td>-0.005882</td>\n",
       "      <td>0.035925</td>\n",
       "      <td>0.022949</td>\n",
       "      <td>-0.004363</td>\n",
       "      <td>0.033549</td>\n",
       "    </tr>\n",
       "    <tr>\n",
       "      <th>2013-01-08</th>\n",
       "      <td>0.002691</td>\n",
       "      <td>-0.007748</td>\n",
       "      <td>-0.012237</td>\n",
       "      <td>-0.001974</td>\n",
       "      <td>-0.020565</td>\n",
       "    </tr>\n",
       "    <tr>\n",
       "      <th>...</th>\n",
       "      <td>...</td>\n",
       "      <td>...</td>\n",
       "      <td>...</td>\n",
       "      <td>...</td>\n",
       "      <td>...</td>\n",
       "    </tr>\n",
       "    <tr>\n",
       "      <th>2021-07-16</th>\n",
       "      <td>-0.014076</td>\n",
       "      <td>-0.015854</td>\n",
       "      <td>-0.009580</td>\n",
       "      <td>0.004411</td>\n",
       "      <td>-0.023280</td>\n",
       "    </tr>\n",
       "    <tr>\n",
       "      <th>2021-07-19</th>\n",
       "      <td>-0.026914</td>\n",
       "      <td>-0.006727</td>\n",
       "      <td>-0.012340</td>\n",
       "      <td>-0.019656</td>\n",
       "      <td>0.003715</td>\n",
       "    </tr>\n",
       "    <tr>\n",
       "      <th>2021-07-20</th>\n",
       "      <td>0.025974</td>\n",
       "      <td>0.006649</td>\n",
       "      <td>0.013978</td>\n",
       "      <td>0.014294</td>\n",
       "      <td>-0.002311</td>\n",
       "    </tr>\n",
       "    <tr>\n",
       "      <th>2021-07-21</th>\n",
       "      <td>-0.005132</td>\n",
       "      <td>0.003361</td>\n",
       "      <td>0.013376</td>\n",
       "      <td>0.011434</td>\n",
       "      <td>-0.032803</td>\n",
       "    </tr>\n",
       "    <tr>\n",
       "      <th>2021-07-22</th>\n",
       "      <td>0.009629</td>\n",
       "      <td>0.014736</td>\n",
       "      <td>0.014326</td>\n",
       "      <td>0.005490</td>\n",
       "      <td>-0.003621</td>\n",
       "    </tr>\n",
       "  </tbody>\n",
       "</table>\n",
       "<p>2154 rows × 5 columns</p>\n",
       "</div>"
      ],
      "text/plain": [
       "                AAPL      AMZN        FB      GOOG      NFLX\n",
       "Date                                                        \n",
       "2013-01-02       NaN       NaN       NaN       NaN       NaN\n",
       "2013-01-03 -0.012623  0.004547 -0.008214  0.000581  0.049777\n",
       "2013-01-04 -0.027855  0.002592  0.035650  0.019760 -0.006315\n",
       "2013-01-07 -0.005882  0.035925  0.022949 -0.004363  0.033549\n",
       "2013-01-08  0.002691 -0.007748 -0.012237 -0.001974 -0.020565\n",
       "...              ...       ...       ...       ...       ...\n",
       "2021-07-16 -0.014076 -0.015854 -0.009580  0.004411 -0.023280\n",
       "2021-07-19 -0.026914 -0.006727 -0.012340 -0.019656  0.003715\n",
       "2021-07-20  0.025974  0.006649  0.013978  0.014294 -0.002311\n",
       "2021-07-21 -0.005132  0.003361  0.013376  0.011434 -0.032803\n",
       "2021-07-22  0.009629  0.014736  0.014326  0.005490 -0.003621\n",
       "\n",
       "[2154 rows x 5 columns]"
      ]
     },
     "execution_count": 24,
     "metadata": {},
     "output_type": "execute_result"
    }
   ],
   "source": [
    " # Calculating the simple daily returns\n",
    "daily_simplereturns = my_stocks.pct_change(1)\n",
    "\n",
    "daily_simplereturns"
   ]
  },
  {
   "cell_type": "code",
   "execution_count": 25,
   "metadata": {},
   "outputs": [
    {
     "data": {
      "text/html": [
       "<div>\n",
       "<style scoped>\n",
       "    .dataframe tbody tr th:only-of-type {\n",
       "        vertical-align: middle;\n",
       "    }\n",
       "\n",
       "    .dataframe tbody tr th {\n",
       "        vertical-align: top;\n",
       "    }\n",
       "\n",
       "    .dataframe thead th {\n",
       "        text-align: right;\n",
       "    }\n",
       "</style>\n",
       "<table border=\"1\" class=\"dataframe\">\n",
       "  <thead>\n",
       "    <tr style=\"text-align: right;\">\n",
       "      <th></th>\n",
       "      <th>AAPL</th>\n",
       "      <th>AMZN</th>\n",
       "      <th>FB</th>\n",
       "      <th>GOOG</th>\n",
       "      <th>NFLX</th>\n",
       "    </tr>\n",
       "  </thead>\n",
       "  <tbody>\n",
       "    <tr>\n",
       "      <th>AAPL</th>\n",
       "      <td>1.000000</td>\n",
       "      <td>0.463219</td>\n",
       "      <td>0.461457</td>\n",
       "      <td>0.526336</td>\n",
       "      <td>0.276617</td>\n",
       "    </tr>\n",
       "    <tr>\n",
       "      <th>AMZN</th>\n",
       "      <td>0.463219</td>\n",
       "      <td>1.000000</td>\n",
       "      <td>0.524287</td>\n",
       "      <td>0.603825</td>\n",
       "      <td>0.455205</td>\n",
       "    </tr>\n",
       "    <tr>\n",
       "      <th>FB</th>\n",
       "      <td>0.461457</td>\n",
       "      <td>0.524287</td>\n",
       "      <td>1.000000</td>\n",
       "      <td>0.571666</td>\n",
       "      <td>0.362885</td>\n",
       "    </tr>\n",
       "    <tr>\n",
       "      <th>GOOG</th>\n",
       "      <td>0.526336</td>\n",
       "      <td>0.603825</td>\n",
       "      <td>0.571666</td>\n",
       "      <td>1.000000</td>\n",
       "      <td>0.416589</td>\n",
       "    </tr>\n",
       "    <tr>\n",
       "      <th>NFLX</th>\n",
       "      <td>0.276617</td>\n",
       "      <td>0.455205</td>\n",
       "      <td>0.362885</td>\n",
       "      <td>0.416589</td>\n",
       "      <td>1.000000</td>\n",
       "    </tr>\n",
       "  </tbody>\n",
       "</table>\n",
       "</div>"
      ],
      "text/plain": [
       "          AAPL      AMZN        FB      GOOG      NFLX\n",
       "AAPL  1.000000  0.463219  0.461457  0.526336  0.276617\n",
       "AMZN  0.463219  1.000000  0.524287  0.603825  0.455205\n",
       "FB    0.461457  0.524287  1.000000  0.571666  0.362885\n",
       "GOOG  0.526336  0.603825  0.571666  1.000000  0.416589\n",
       "NFLX  0.276617  0.455205  0.362885  0.416589  1.000000"
      ]
     },
     "execution_count": 25,
     "metadata": {},
     "output_type": "execute_result"
    }
   ],
   "source": [
    "# stock correlation\n",
    "daily_simplereturns.corr()"
   ]
  },
  {
   "cell_type": "code",
   "execution_count": 28,
   "metadata": {},
   "outputs": [
    {
     "data": {
      "text/html": [
       "<div>\n",
       "<style scoped>\n",
       "    .dataframe tbody tr th:only-of-type {\n",
       "        vertical-align: middle;\n",
       "    }\n",
       "\n",
       "    .dataframe tbody tr th {\n",
       "        vertical-align: top;\n",
       "    }\n",
       "\n",
       "    .dataframe thead th {\n",
       "        text-align: right;\n",
       "    }\n",
       "</style>\n",
       "<table border=\"1\" class=\"dataframe\">\n",
       "  <thead>\n",
       "    <tr style=\"text-align: right;\">\n",
       "      <th></th>\n",
       "      <th>AAPL</th>\n",
       "      <th>AMZN</th>\n",
       "      <th>FB</th>\n",
       "      <th>GOOG</th>\n",
       "      <th>NFLX</th>\n",
       "    </tr>\n",
       "  </thead>\n",
       "  <tbody>\n",
       "    <tr>\n",
       "      <th>AAPL</th>\n",
       "      <td>0.000322</td>\n",
       "      <td>0.000159</td>\n",
       "      <td>0.000178</td>\n",
       "      <td>0.000153</td>\n",
       "      <td>0.000142</td>\n",
       "    </tr>\n",
       "    <tr>\n",
       "      <th>AMZN</th>\n",
       "      <td>0.000159</td>\n",
       "      <td>0.000364</td>\n",
       "      <td>0.000215</td>\n",
       "      <td>0.000186</td>\n",
       "      <td>0.000248</td>\n",
       "    </tr>\n",
       "    <tr>\n",
       "      <th>FB</th>\n",
       "      <td>0.000178</td>\n",
       "      <td>0.000215</td>\n",
       "      <td>0.000463</td>\n",
       "      <td>0.000199</td>\n",
       "      <td>0.000223</td>\n",
       "    </tr>\n",
       "    <tr>\n",
       "      <th>GOOG</th>\n",
       "      <td>0.000153</td>\n",
       "      <td>0.000186</td>\n",
       "      <td>0.000199</td>\n",
       "      <td>0.000261</td>\n",
       "      <td>0.000193</td>\n",
       "    </tr>\n",
       "    <tr>\n",
       "      <th>NFLX</th>\n",
       "      <td>0.000142</td>\n",
       "      <td>0.000248</td>\n",
       "      <td>0.000223</td>\n",
       "      <td>0.000193</td>\n",
       "      <td>0.000817</td>\n",
       "    </tr>\n",
       "  </tbody>\n",
       "</table>\n",
       "</div>"
      ],
      "text/plain": [
       "          AAPL      AMZN        FB      GOOG      NFLX\n",
       "AAPL  0.000322  0.000159  0.000178  0.000153  0.000142\n",
       "AMZN  0.000159  0.000364  0.000215  0.000186  0.000248\n",
       "FB    0.000178  0.000215  0.000463  0.000199  0.000223\n",
       "GOOG  0.000153  0.000186  0.000199  0.000261  0.000193\n",
       "NFLX  0.000142  0.000248  0.000223  0.000193  0.000817"
      ]
     },
     "execution_count": 28,
     "metadata": {},
     "output_type": "execute_result"
    }
   ],
   "source": [
    "# stock covariance / variance\n",
    "daily_simplereturns.cov()"
   ]
  },
  {
   "cell_type": "code",
   "execution_count": 29,
   "metadata": {},
   "outputs": [
    {
     "data": {
      "text/plain": [
       "AAPL    0.000322\n",
       "AMZN    0.000364\n",
       "FB      0.000463\n",
       "GOOG    0.000261\n",
       "NFLX    0.000817\n",
       "dtype: float64"
      ]
     },
     "execution_count": 29,
     "metadata": {},
     "output_type": "execute_result"
    }
   ],
   "source": [
    "daily_simplereturns.var()"
   ]
  },
  {
   "cell_type": "code",
   "execution_count": 30,
   "metadata": {},
   "outputs": [
    {
     "name": "stdout",
     "output_type": "stream",
     "text": [
      " The Stock Volatility:\n"
     ]
    },
    {
     "data": {
      "text/plain": [
       "AAPL    0.017957\n",
       "AMZN    0.019074\n",
       "FB      0.021520\n",
       "GOOG    0.016169\n",
       "NFLX    0.028585\n",
       "dtype: float64"
      ]
     },
     "execution_count": 30,
     "metadata": {},
     "output_type": "execute_result"
    }
   ],
   "source": [
    "# stock volatility ( Standard Deviation for daily simple returns)\n",
    "print(\" The Stock Volatility:\")\n",
    "daily_simplereturns.std()"
   ]
  },
  {
   "cell_type": "code",
   "execution_count": 32,
   "metadata": {},
   "outputs": [
    {
     "data": {
      "text/plain": [
       "<function matplotlib.pyplot.show(close=None, block=None)>"
      ]
     },
     "execution_count": 32,
     "metadata": {},
     "output_type": "execute_result"
    },
    {
     "data": {
      "image/png": "[encoded data removed]",
      "text/plain": [
       "<Figure size 864x360 with 1 Axes>"
      ]
     },
     "metadata": {},
     "output_type": "display_data"
    }
   ],
   "source": [
    "# Visualizing stocks daily simple returns / volatiltiy\n",
    "plt.figure(figsize=(12,5))\n",
    "for item in daily_simplereturns.columns.values:\n",
    "    plt.plot(daily_simplereturns[item], label = item)\n",
    "    \n",
    "plt.legend(loc='upper right', fontsize=10)\n",
    "plt.title('Volatility', fontsize=20)\n",
    "plt.xlabel('Date')\n",
    "plt.ylabel('Daily Simple Returns')\n",
    "plt.show\n"
   ]
  },
  {
   "cell_type": "code",
   "execution_count": 35,
   "metadata": {},
   "outputs": [
    {
     "name": "stdout",
     "output_type": "stream",
     "text": [
      "AAPL    0.001163\n",
      "AMZN    0.001412\n",
      "FB      0.001404\n",
      "GOOG    0.001060\n",
      "NFLX    0.002097\n",
      "dtype: float64\n"
     ]
    }
   ],
   "source": [
    "# show the mean of the daily simple return\n",
    "dailyMeanSimpleReturns = daily_simplereturns.mean()\n",
    "print(dailyMeanSimpleReturns)"
   ]
  },
  {
   "cell_type": "code",
   "execution_count": 37,
   "metadata": {},
   "outputs": [
    {
     "name": "stdout",
     "output_type": "stream",
     "text": [
      "The daily expected portfolio return: 0.0012745149053717546\n"
     ]
    }
   ],
   "source": [
    "# Calculate the expected portfolio daily return\n",
    "randomweight = np.array([0.4,0.1,0.1,0.3,0.1]) # 40% AAPL, 10% AMZN, 10% FB, 30% GOOG, 10% NFLX\n",
    "\n",
    "portfolioSimpleReturn = np.sum(dailyMeanSimpleReturns * randomweight)\n",
    "\n",
    "# Print the expected portfolio return\n",
    "print('The daily expected portfolio return: '+ str(portfolioSimpleReturn))\n",
    "      \n",
    "    "
   ]
  },
  {
   "cell_type": "code",
   "execution_count": 38,
   "metadata": {},
   "outputs": [
    {
     "name": "stdout",
     "output_type": "stream",
     "text": [
      "Expected annualised portfolio simple return: 0.3224522710590539\n"
     ]
    }
   ],
   "source": [
    "# Yearly portfolio return\n",
    "print(\"Expected annualised portfolio simple return: \" +str(portfolioSimpleReturn * 253))\n",
    "#(number of trading days are assumed to be 253)"
   ]
  },
  {
   "cell_type": "code",
   "execution_count": null,
   "metadata": {},
   "outputs": [],
   "source": [
    "# total return "
   ]
  }
 ],
 "metadata": {
  "kernelspec": {
   "display_name": "Python 3",
   "language": "python",
   "name": "python3"
  },
  "language_info": {
   "codemirror_mode": {
    "name": "ipython",
    "version": 3
   },
   "file_extension": ".py",
   "mimetype": "text/x-python",
   "name": "python",
   "nbconvert_exporter": "python",
   "pygments_lexer": "ipython3",
   "version": "3.8.5"
  }
 },
 "nbformat": 4,
 "nbformat_minor": 4
}
